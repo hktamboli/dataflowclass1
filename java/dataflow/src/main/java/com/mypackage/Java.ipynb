{
 "cells": [
  {
   "cell_type": "code",
   "execution_count": 1,
   "id": "e344d133-62d0-4c38-8baa-a77c167c42c6",
   "metadata": {},
   "outputs": [
    {
     "name": "stdout",
     "output_type": "stream",
     "text": [
      ">> mkdir -p data\n",
      "\n",
      ">> gsutil cp gs://dataflow-samples/shakespeare/kinglear.txt data/\n",
      "Copying gs://dataflow-samples/shakespeare/kinglear.txt...\n",
      "/ [1 files][153.6 KiB/153.6 KiB]                                                \n",
      "Operation completed over 1 objects/153.6 KiB.                                    \n",
      "\n",
      "Done\n"
     ]
    }
   ],
   "source": [
    "# Run and print a shell command.\n",
    "def run(cmd):\n",
    "  print('>> {}'.format(cmd))\n",
    "  !{cmd}  # This is magic to run 'cmd' in the shell.\n",
    "  print('')\n",
    "\n",
    "# Copy the input file into the local filesystem.\n",
    "run('mkdir -p data')\n",
    "run('gsutil cp gs://dataflow-samples/shakespeare/kinglear.txt data/')\n",
    "print('Done')"
   ]
  },
  {
   "cell_type": "code",
   "execution_count": null,
   "id": "768a7a9c-d5c6-4438-b18e-830ffabdf213",
   "metadata": {},
   "outputs": [
    {
     "name": "stdout",
     "output_type": "stream",
     "text": [
      ">> apt-get update > /dev/null\n",
      "\n",
      ">> apt-get upgrade > /dev/null\n"
     ]
    }
   ],
   "source": [
    "# Update and upgrade the system before installing anything else.\n",
    "run('apt-get update > /dev/null')\n",
    "run('apt-get upgrade > /dev/null')\n",
    "\n",
    "# Install the Java JDK.\n",
    "run('apt-get install default-jdk > /dev/null')\n",
    "\n",
    "# Check the Java version to see if everything is working well.\n",
    "run('javac -version')\n",
    "print('Done')"
   ]
  },
  {
   "cell_type": "code",
   "execution_count": null,
   "id": "56d8a684-3157-4c49-a666-7c6968447b61",
   "metadata": {},
   "outputs": [],
   "source": [
    "import os\n",
    "\n",
    "# Download the gradle source.\n",
    "gradle_version = 'gradle-5.0'\n",
    "gradle_path = f\"/opt/{gradle_version}\"\n",
    "if not os.path.exists(gradle_path):\n",
    "  run(f\"wget -q -nc -O gradle.zip https://services.gradle.org/distributions/{gradle_version}-bin.zip\")\n",
    "  run('unzip -q -d /opt gradle.zip')\n",
    "  run('rm -f gradle.zip')\n",
    "\n",
    "# We're choosing to use the absolute path instead of adding it to the $PATH environment variable.\n",
    "def gradle(args):\n",
    "  run(f\"{gradle_path}/bin/gradle --console=plain {args}\")\n",
    "\n",
    "gradle('-v')\n",
    "print('Done')"
   ]
  },
  {
   "cell_type": "code",
   "execution_count": null,
   "id": "00d66071-af33-468f-921b-b547953363c4",
   "metadata": {},
   "outputs": [],
   "source": [
    "%%writefile build.gradle\n",
    "\n",
    "plugins {\n",
    "  // id 'idea'     // Uncomment for IntelliJ IDE\n",
    "  // id 'eclipse'  // Uncomment for Eclipse IDE\n",
    "\n",
    "  // Apply java plugin and make it a runnable application.\n",
    "  id 'java'\n",
    "  id 'application'\n",
    "\n",
    "  // 'shadow' allows us to embed all the dependencies into a fat jar.\n",
    "  id 'com.github.johnrengelman.shadow' version '4.0.3'\n",
    "}\n",
    "\n",
    "// This is the path of the main class, stored within ./src/main/java/\n",
    "mainClassName = 'samples.quickstart.WordCount'\n",
    "\n",
    "// Declare the sources from which to fetch dependencies.\n",
    "repositories {\n",
    "  mavenCentral()\n",
    "}\n",
    "\n",
    "// Java version compatibility.\n",
    "sourceCompatibility = 1.8\n",
    "targetCompatibility = 1.8\n",
    "\n",
    "// Use the latest Apache Beam major version 2.\n",
    "// You can also lock into a minor version like '2.9.+'.\n",
    "ext.apacheBeamVersion = '2.+'\n",
    "\n",
    "// Declare the dependencies of the project.\n",
    "dependencies {\n",
    "  shadow \"org.apache.beam:beam-sdks-java-core:$apacheBeamVersion\"\n",
    "\n",
    "  runtime \"org.apache.beam:beam-runners-direct-java:$apacheBeamVersion\"\n",
    "  runtime \"org.slf4j:slf4j-api:1.+\"\n",
    "  runtime \"org.slf4j:slf4j-jdk14:1.+\"\n",
    "\n",
    "  testCompile \"junit:junit:4.+\"\n",
    "}\n",
    "\n",
    "// Configure 'shadowJar' instead of 'jar' to set up the fat jar.\n",
    "shadowJar {\n",
    "  baseName = 'WordCount'  // Name of the fat jar file.\n",
    "  classifier = null       // Set to null, otherwise 'shadow' appends a '-all' to the jar file name.\n",
    "  manifest {\n",
    "    attributes('Main-Class': mainClassName)  // Specify where the main class resides.\n",
    "  }\n",
    "}\n",
    "print('Done')"
   ]
  },
  {
   "cell_type": "code",
   "execution_count": null,
   "id": "348dc92f-a581-4bbc-b55e-c0461f094dc0",
   "metadata": {},
   "outputs": [],
   "source": [
    "run('mkdir -p src/main/java/samples/quickstart')\n",
    "print('Done')"
   ]
  },
  {
   "cell_type": "code",
   "execution_count": null,
   "id": "5dbfc870-fe8a-49e9-88ac-6bb95471f95e",
   "metadata": {},
   "outputs": [],
   "source": [
    "%%writefile src/main/java/samples/quickstart/WordCount.java\n",
    "\n",
    "package samples.quickstart;\n",
    "\n",
    "import org.apache.beam.sdk.Pipeline;\n",
    "import org.apache.beam.sdk.io.TextIO;\n",
    "import org.apache.beam.sdk.options.PipelineOptions;\n",
    "import org.apache.beam.sdk.options.PipelineOptionsFactory;\n",
    "import org.apache.beam.sdk.transforms.Count;\n",
    "import org.apache.beam.sdk.transforms.Filter;\n",
    "import org.apache.beam.sdk.transforms.FlatMapElements;\n",
    "import org.apache.beam.sdk.transforms.MapElements;\n",
    "import org.apache.beam.sdk.values.KV;\n",
    "import org.apache.beam.sdk.values.TypeDescriptors;\n",
    "\n",
    "import java.util.Arrays;\n",
    "\n",
    "public class WordCount {\n",
    "  public static void main(String[] args) {\n",
    "    String inputsDir = \"data/*\";\n",
    "    String outputsPrefix = \"outputs/part\";\n",
    "\n",
    "    PipelineOptions options = PipelineOptionsFactory.fromArgs(args).create();\n",
    "    Pipeline pipeline = Pipeline.create(options);\n",
    "    pipeline\n",
    "        .apply(\"Read lines\", TextIO.read().from(inputsDir))\n",
    "        .apply(\"Find words\", FlatMapElements.into(TypeDescriptors.strings())\n",
    "            .via((String line) -> Arrays.asList(line.split(\"[^\\\\p{L}]+\"))))\n",
    "        .apply(\"Filter empty words\", Filter.by((String word) -> !word.isEmpty()))\n",
    "        .apply(\"Count words\", Count.perElement())\n",
    "        .apply(\"Write results\", MapElements.into(TypeDescriptors.strings())\n",
    "            .via((KV<String, Long> wordCount) ->\n",
    "                  wordCount.getKey() + \": \" + wordCount.getValue()))\n",
    "        .apply(TextIO.write().to(outputsPrefix));\n",
    "    pipeline.run();\n",
    "  }\n",
    "}"
   ]
  },
  {
   "cell_type": "code",
   "execution_count": null,
   "id": "a05b674c-8a44-4464-be8d-a1176717920f",
   "metadata": {},
   "outputs": [],
   "source": [
    "# Build the project.\n",
    "gradle('build')\n",
    "\n",
    "# Check the generated build files.\n",
    "run('ls -lh build/libs/')\n",
    "print('Done')"
   ]
  },
  {
   "cell_type": "code",
   "execution_count": null,
   "id": "4cdb1cc4-faf6-40e0-aba3-7cc52c795c88",
   "metadata": {},
   "outputs": [],
   "source": [
    "# Run the shadow (fat jar) build.\n",
    "gradle('runShadow')\n",
    "\n",
    "# Sample the first 20 results, remember there are no ordering guarantees.\n",
    "run('head -n 20 outputs/part-00000-of-*')\n",
    "print('Done')"
   ]
  }
 ],
 "metadata": {
  "kernelspec": {
   "display_name": "Python 3 (ipykernel)",
   "language": "python",
   "name": "python3"
  },
  "language_info": {
   "codemirror_mode": {
    "name": "ipython",
    "version": 3
   },
   "file_extension": ".py",
   "mimetype": "text/x-python",
   "name": "python",
   "nbconvert_exporter": "python",
   "pygments_lexer": "ipython3",
   "version": "3.7.12"
  }
 },
 "nbformat": 4,
 "nbformat_minor": 5
}
