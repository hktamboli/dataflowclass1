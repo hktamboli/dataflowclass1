{
  "cells": [
    {
      "cell_type": "markdown",
      "id": "ac3ef3dc-0bbf-4776-8b9b-67f5b72f760f",
      "metadata": {
        "id": "ac3ef3dc-0bbf-4776-8b9b-67f5b72f760f",
        "tags": []
      },
      "source": [
        "# 1. Initialization Code"
      ]
    },
    {
      "cell_type": "markdown",
      "id": "0056ec5c-9249-4318-8a94-f09fda6785f5",
      "metadata": {
        "id": "0056ec5c-9249-4318-8a94-f09fda6785f5",
        "tags": []
      },
      "source": [
        "## Beam"
      ]
    },
    {
      "cell_type": "markdown",
      "id": "5977e2a0-067f-499a-9eca-79bed0a0fe91",
      "metadata": {
        "id": "5977e2a0-067f-499a-9eca-79bed0a0fe91",
        "jp-MarkdownHeadingCollapsed": true,
        "tags": []
      },
      "source": [
        "### Initialize helper functions to run Java inside cells."
      ]
    },
    {
      "cell_type": "code",
      "execution_count": null,
      "id": "93a4ca8e-365d-4a74-bdb6-7bdaa0d90741",
      "metadata": {
        "id": "93a4ca8e-365d-4a74-bdb6-7bdaa0d90741",
        "tags": []
      },
      "outputs": [],
      "source": [
        "# https://colab.research.google.com/github/apache/beam/blob/master/examples/notebooks/get-started/try-apache-beam-java.ipynb#scrollTo=CgTXBdTsBn1F\n",
        "# Run and print a shell command.\n",
        "def run(cmd, progress = True, verbose = False):\n",
        "  if progress:\n",
        "      print('>> {}'.format(cmd))\n",
        "    \n",
        "  if verbose:\n",
        "      !{cmd}  # This is magic to run 'cmd' in the shell.\n",
        "      print('')\n",
        "  else:\n",
        "      ! {cmd} > /dev/null 2>&1\n",
        "\n",
        "import os\n",
        "\n",
        "# Download the gradle source.\n",
        "gradle_version = 'gradle-5.0'\n",
        "gradle_path = f\"/opt/{gradle_version}\"\n",
        "if not os.path.exists(gradle_path):\n",
        "  run(f\"wget -q -nc -O gradle.zip https://services.gradle.org/distributions/{gradle_version}-bin.zip\")\n",
        "  run('unzip -q -d /opt gradle.zip')\n",
        "  run('rm -f gradle.zip')\n",
        "\n",
        "# We're choosing to use the absolute path instead of adding it to the $PATH environment variable.\n",
        "def gradle(args):\n",
        "  run(f\"{gradle_path}/bin/gradle --console=plain {args}\")\n",
        "\n",
        "gradle('-v')\n",
        "\n",
        "! mkdir -p src/main/java/samples/quickstart/\n",
        "print('Done')\n",
        "        "
      ]
    },
    {
      "cell_type": "markdown",
      "id": "3ff31b60-f918-46c6-875d-3753323771da",
      "metadata": {
        "id": "3ff31b60-f918-46c6-875d-3753323771da",
        "jp-MarkdownHeadingCollapsed": true,
        "tags": []
      },
      "source": [
        "### Definition for <font color='blue' face=\"Fixedsys, monospace\" size=\"+2\">%%java</font> Python magic cell function."
      ]
    },
    {
      "cell_type": "code",
      "execution_count": null,
      "id": "ad63a163-74ac-4188-8ca1-3480152b7fb4",
      "metadata": {
        "id": "ad63a163-74ac-4188-8ca1-3480152b7fb4",
        "tags": []
      },
      "outputs": [],
      "source": [
        "from IPython.core.magic import register_line_magic, register_cell_magic, register_line_cell_magic\n",
        "@register_cell_magic\n",
        "def java(line, cell):\n",
        "    \"\"\"\n",
        "    Written by Joseph Gagliardo Jr.\n",
        "    joegagliardo@gmail.com\n",
        "    2021-12-22\n",
        "    \"\"\"\n",
        "    gradle_text = \"\"\"\n",
        "plugins {\n",
        "  // id 'idea'     // Uncomment for IntelliJ IDE\n",
        "  // id 'eclipse'  // Uncomment for Eclipse IDE\n",
        "\n",
        "  // Apply java plugin and make it a runnable application.\n",
        "  id 'java'\n",
        "  id 'application'\n",
        "\n",
        "  // 'shadow' allows us to embed all the dependencies into a fat jar.\n",
        "  id 'com.github.johnrengelman.shadow' version '4.0.3'\n",
        "}\n",
        "\n",
        "// This is the path of the main class, stored within ./src/main/java/\n",
        "mainClassName = 'samples.quickstart.{class_name}'\n",
        "\n",
        "// Declare the sources from which to fetch dependencies.\n",
        "repositories {\n",
        "  mavenCentral()\n",
        "}\n",
        "\n",
        "// Java version compatibility.\n",
        "sourceCompatibility = 1.8\n",
        "targetCompatibility = 1.8\n",
        "\n",
        "// Use the latest Apache Beam major version 2.\n",
        "// You can also lock into a minor version like '2.9.+'.\n",
        "ext.apacheBeamVersion = '2.+'\n",
        "\n",
        "// Declare the dependencies of the project.\n",
        "dependencies {\n",
        "  shadow \"org.apache.beam:beam-sdks-java-core:$apacheBeamVersion\"\n",
        "\n",
        "  runtime \"org.apache.beam:beam-runners-direct-java:$apacheBeamVersion\"\n",
        "  runtime \"org.apache.beam:beam-sdks-java-extensions-sql:$apacheBeamVersion\"\n",
        "  runtime \"com.google.auto.value:auto-value-annotations:1.6\"\n",
        "  runtime \"com.google.code.gson:gson:2.8.8\"\n",
        "  compile \"org.apache.beam:beam-sdks-java-extensions-join-library:$apacheBeamVersion\"\n",
        "  runtime \"org.slf4j:slf4j-api:1.+\"\n",
        "  runtime \"org.slf4j:slf4j-jdk14:1.+\"\n",
        "\n",
        "  annotationProcessor \"com.google.auto.value:auto-value:1.6\"\n",
        "\n",
        "  testCompile \"junit:junit:4.+\"\n",
        "}\n",
        "\n",
        "// Configure 'shadowJar' instead of 'jar' to set up the fat jar.\n",
        "shadowJar {\n",
        "  zip64 true\n",
        "  baseName = '{class_name}' // Name of the fat jar file.\n",
        "  classifier = null       // Set to null, otherwise 'shadow' appends a '-all' to the jar file name.\n",
        "  manifest {\n",
        "    attributes('Main-Class': mainClassName)  // Specify where the main class resides.\n",
        "  }\n",
        "}\n",
        "\"\"\"   \n",
        "    start = cell.find('class ')\n",
        "    end = cell.find(' {')\n",
        "    class_name = cell[start+6:end]\n",
        "    progress = 'noprogress' not in line.lower()\n",
        "    verbose = 'verbose' in line.lower()\n",
        "    output = 'nooutput' not in line.lower()\n",
        "\n",
        "        \n",
        "    # if len(line) == 0:\n",
        "    #     start = cell.find('class ')\n",
        "    #     end = cell.find(' {')\n",
        "    #     class_name = cell[start+6:end]\n",
        "    # else:\n",
        "    #     class_name = line\n",
        "        \n",
        "    \n",
        "    run('rm src/main/java/samples/quickstart/*.java')\n",
        "    run('rm build/libs/*.jar')\n",
        "    run('rm -rf /tmp/outputs*', progress = progress, verbose = verbose)\n",
        "\n",
        "    with open('build.gradle', 'w') as f:\n",
        "        f.write(gradle_text.replace('{class_name}', class_name))\n",
        "\n",
        "    with open(f'src/main/java/samples/quickstart/{class_name}.java', 'w') as f:\n",
        "        f.write(cell)\n",
        "        \n",
        "    # Build the project.\n",
        "    run(f\"{gradle_path}/bin/gradle --console=plain build\", progress = progress, verbose = verbose)\n",
        "    run('ls -lh build/libs/', progress = progress, verbose = verbose)\n",
        "    run(f\"{gradle_path}/bin/gradle --console=plain runShadow\", progress = progress, verbose = verbose)\n",
        "    # run('head -n 20 /tmp/outputs*')\n",
        "    if output:\n",
        "        run('cat /tmp/outputs*', progress = False, verbose = True)\n",
        "\n",
        "    print('Done')\n",
        "\n",
        "print('Done')"
      ]
    },
    {
      "cell_type": "code",
      "execution_count": null,
      "id": "59137559-3ae2-4928-bd0f-c0e91ca92611",
      "metadata": {
        "id": "59137559-3ae2-4928-bd0f-c0e91ca92611"
      },
      "outputs": [],
      "source": [
        "# additional dependencies sometimes needed\n",
        "  compile \"org.apache.beam:beam-sdks-java-extensions-google-cloud-platform-core:2.22.0\"\n",
        "  compile \"org.apache.beam:beam-runners-google-cloud-dataflow-java:2.22.0\"\n",
        "  compile \"org.apache.beam:beam-sdks-java-io-google-cloud-platform:2.22.0\"\n",
        "\n"
      ]
    },
    {
      "cell_type": "markdown",
      "id": "e27fd70d-c7d5-45e3-821d-6d5872e26d5e",
      "metadata": {
        "id": "e27fd70d-c7d5-45e3-821d-6d5872e26d5e",
        "tags": []
      },
      "source": [
        "## Spark"
      ]
    },
    {
      "cell_type": "markdown",
      "id": "15766514-16d1-4749-89df-687feb8cfdf1",
      "metadata": {
        "id": "15766514-16d1-4749-89df-687feb8cfdf1",
        "jp-MarkdownHeadingCollapsed": true,
        "tags": []
      },
      "source": [
        "### Install a Spark docker using the following commands."
      ]
    },
    {
      "cell_type": "code",
      "execution_count": null,
      "id": "855e6b2a-a1e6-4a54-abad-e221e4b81d48",
      "metadata": {
        "id": "855e6b2a-a1e6-4a54-abad-e221e4b81d48"
      },
      "outputs": [],
      "source": [
        "! docker pull bitnami/spark && \\\n",
        "docker network create spark_network && \\\n",
        "docker run -d --name spark --network=spark_network -e SPARK_MODE=master bitnami/spark\n",
        "! ln -s /opt/conda/lib/libtinfo.so /opt/conda/lib/libtinfor.so.6\n",
        "print('Done')"
      ]
    },
    {
      "cell_type": "markdown",
      "id": "f876e7c9-37fa-479d-906e-a1d9dfdcbe4f",
      "metadata": {
        "id": "f876e7c9-37fa-479d-906e-a1d9dfdcbe4f",
        "jp-MarkdownHeadingCollapsed": true,
        "tags": []
      },
      "source": [
        "### Install pyspark."
      ]
    },
    {
      "cell_type": "code",
      "execution_count": null,
      "id": "cba01e4f-3d54-4143-8a12-05f46c6495f7",
      "metadata": {
        "id": "cba01e4f-3d54-4143-8a12-05f46c6495f7"
      },
      "outputs": [],
      "source": [
        "import pip\n",
        "\n",
        "def install(package):\n",
        "    if hasattr(pip, 'main'):\n",
        "        pip.main(['install', package])\n",
        "    else:\n",
        "        pip._internal.main(['install', package])\n",
        "\n",
        "install('pyspark')\n",
        "        \n",
        "print('Done')"
      ]
    },
    {
      "cell_type": "markdown",
      "id": "1638faad-f411-4b70-a1d7-d1974410f65f",
      "metadata": {
        "id": "1638faad-f411-4b70-a1d7-d1974410f65f",
        "jp-MarkdownHeadingCollapsed": true,
        "tags": []
      },
      "source": [
        "### Initialize the Spark context variables."
      ]
    },
    {
      "cell_type": "code",
      "execution_count": null,
      "id": "4f261b66-15e5-4e5e-b9e9-8880fb0e96a4",
      "metadata": {
        "id": "4f261b66-15e5-4e5e-b9e9-8880fb0e96a4",
        "tags": []
      },
      "outputs": [],
      "source": [
        "from pyspark import SparkConf, SparkContext\n",
        "from pyspark.sql import SparkSession, SQLContext\n",
        "from pyspark.sql.types import *\n",
        "\n",
        "def initspark(appname = \"Notebook\", servername = \"local[*]\"):\n",
        "    print ('initializing pyspark')\n",
        "    conf = SparkConf().setAppName(appname).setMaster(servername)\n",
        "    sc = SparkContext(conf=conf)\n",
        "    spark = SparkSession.builder.appName(appname).enableHiveSupport().getOrCreate()\n",
        "    sc.setLogLevel(\"ERROR\")\n",
        "    print ('pyspark initialized')\n",
        "    return sc, spark, conf\n",
        "\n",
        "sc, spark, conf = initspark()\n",
        "print(sc, spark)\n",
        "print('Done')"
      ]
    },
    {
      "cell_type": "markdown",
      "id": "a3504fbf-3002-4d86-98e2-5ce29a7c1bed",
      "metadata": {
        "id": "a3504fbf-3002-4d86-98e2-5ce29a7c1bed",
        "tags": []
      },
      "source": [
        "# __ __ __ __ __ __ __ __ __ __ __ __ __ __ __ __ __ __ __ __ __ "
      ]
    },
    {
      "cell_type": "markdown",
      "id": "2648d77f-c474-4713-b9ae-b1bc92b6b511",
      "metadata": {
        "id": "2648d77f-c474-4713-b9ae-b1bc92b6b511",
        "tags": []
      },
      "source": [
        "# 2. <font color='blue' face=\"Fixedsys, monospace\" size=\"+2\">Create</font> allows you to upload data into a <font color='green' size=\"+2\">PCollection</font>."
      ]
    },
    {
      "cell_type": "markdown",
      "id": "f60a191f-5326-4972-b5ed-fba630b00823",
      "metadata": {
        "id": "f60a191f-5326-4972-b5ed-fba630b00823",
        "jp-MarkdownHeadingCollapsed": true,
        "tags": []
      },
      "source": [
        "## <img src=\"https://github.com/joegagliardo/dataflowclass1/blob/main/python.png?raw=1\" width=40 height=40 /><font color='cadetblue' size=\"+2\">Python</font>"
      ]
    },
    {
      "cell_type": "markdown",
      "id": "13b7e8b3-122c-42a1-b3a8-4027215100b9",
      "metadata": {
        "id": "13b7e8b3-122c-42a1-b3a8-4027215100b9",
        "jp-MarkdownHeadingCollapsed": true,
        "tags": []
      },
      "source": [
        "### Non Beam example of applying a <font color='blue' face=\"Fixedsys, monospace\" size=\"+2\">\tmap</font> function to a collection. "
      ]
    },
    {
      "cell_type": "code",
      "execution_count": null,
      "id": "20b42191-e24f-46ca-9a74-837b33b84062",
      "metadata": {
        "id": "20b42191-e24f-46ca-9a74-837b33b84062"
      },
      "outputs": [],
      "source": [
        "x = ['one', 'two', 'three', 'four']\n",
        "print(list(map(str.title, x)))"
      ]
    },
    {
      "cell_type": "markdown",
      "id": "b48c5ff1-0abf-458b-bab5-612f1f9d4da2",
      "metadata": {
        "id": "b48c5ff1-0abf-458b-bab5-612f1f9d4da2",
        "jp-MarkdownHeadingCollapsed": true,
        "tags": []
      },
      "source": [
        "### Simple transformation, turn the local collection into a <font color='green' size=\"+2\">PCollection</font> and apply a <font color='blue' face=\"Fixedsys, monospace\" size=\"+2\">Map</font> <font color='green' size=\"+2\">PTransform</font> on it."
      ]
    },
    {
      "cell_type": "code",
      "execution_count": null,
      "id": "646a0363-7c2c-4a06-b748-5dba7e0a8cfc",
      "metadata": {
        "id": "646a0363-7c2c-4a06-b748-5dba7e0a8cfc"
      },
      "outputs": [],
      "source": [
        "import apache_beam as beam\n",
        "\n",
        "with beam.Pipeline() as p:\n",
        "    lines = (\n",
        "        p | beam.Create(['one', 'two', 'three', 'four'])\n",
        "          | beam.Map(str.title)\n",
        "          | beam.Map(print)\n",
        "    )\n",
        "\n",
        "# lines is a PCollection object\n",
        "print('lines = ', lines)\n"
      ]
    },
    {
      "cell_type": "markdown",
      "id": "a55af079-27dc-478b-8d64-bca4e3c0e6aa",
      "metadata": {
        "id": "a55af079-27dc-478b-8d64-bca4e3c0e6aa",
        "jp-MarkdownHeadingCollapsed": true,
        "tags": []
      },
      "source": [
        "### Simple transformation using a <font color='blue' face=\"Fixedsys, monospace\" size=\"+2\">lambda</font> instead of a built in function."
      ]
    },
    {
      "cell_type": "code",
      "execution_count": null,
      "id": "e93da6b8-8369-4cd3-a2d3-c427e8c5474e",
      "metadata": {
        "id": "e93da6b8-8369-4cd3-a2d3-c427e8c5474e"
      },
      "outputs": [],
      "source": [
        "import apache_beam as beam\n",
        "\n",
        "with beam.Pipeline() as p:\n",
        "    lines = (\n",
        "        p | beam.Create(['one', 'two', 'three', 'four'])\n",
        "          | beam.Map(lambda x : x.title())\n",
        "          | beam.Map(print)\n",
        "    )\n"
      ]
    },
    {
      "cell_type": "markdown",
      "id": "da8fcb5d-344b-41d3-8a35-64b22f5c928f",
      "metadata": {
        "id": "da8fcb5d-344b-41d3-8a35-64b22f5c928f",
        "jp-MarkdownHeadingCollapsed": true,
        "tags": []
      },
      "source": [
        "### Simple transformation using a user defined function."
      ]
    },
    {
      "cell_type": "code",
      "execution_count": null,
      "id": "c7f4e8bf-5242-4e3e-b3bb-8792ebef973f",
      "metadata": {
        "id": "c7f4e8bf-5242-4e3e-b3bb-8792ebef973f"
      },
      "outputs": [],
      "source": [
        "import apache_beam as beam\n",
        "\n",
        "def title(x):\n",
        "    return x.title()\n",
        "\n",
        "with beam.Pipeline() as p:\n",
        "    lines = (\n",
        "        p | beam.Create(['one', 'two', 'three', 'four'])\n",
        "          | beam.Map(title)\n",
        "          | beam.Map(print)\n",
        "    )\n"
      ]
    },
    {
      "cell_type": "markdown",
      "id": "555217b9-8c7f-4703-b3c8-227a765662d7",
      "metadata": {
        "id": "555217b9-8c7f-4703-b3c8-227a765662d7",
        "tags": []
      },
      "source": [
        "### The pipe <font color='blue' face=\"Fixedsys, monospace\" size=\"+2\">|</font> is actually just an operator overload to call the <font color='blue' face=\"Fixedsys, monospace\" size=\"+2\">apply</font> method of the pipeline. You would never do this in Python, but it helps to understand what is going on under the hood."
      ]
    },
    {
      "cell_type": "code",
      "execution_count": null,
      "id": "4def65bc-1b46-41d9-897e-c6869b35df66",
      "metadata": {
        "id": "4def65bc-1b46-41d9-897e-c6869b35df66"
      },
      "outputs": [],
      "source": [
        "import apache_beam as beam\n",
        "\n",
        "with beam.Pipeline() as p:\n",
        "        lines = ((p | beam.Create(['one', 'two', 'three', 'four']))\n",
        "             .apply(beam.Map(str.title)) \n",
        "             .apply(beam.Map(print))\n",
        "        )"
      ]
    },
    {
      "cell_type": "markdown",
      "id": "f5b284c7-a0f8-447a-a771-0750f9520432",
      "metadata": {
        "id": "f5b284c7-a0f8-447a-a771-0750f9520432",
        "jp-MarkdownHeadingCollapsed": true,
        "tags": []
      },
      "source": [
        "### The Spark equivalent would be to upload a local Python <font color='blue' face=\"Fixedsys, monospace\" size=\"+2\">list</font> into a Spark <font color='green' size=\"+2\">RDD</font> and do a simple transformation."
      ]
    },
    {
      "cell_type": "code",
      "execution_count": null,
      "id": "5a4a12fc-ab8d-4ec0-b6cd-ae8ab91fa96d",
      "metadata": {
        "id": "5a4a12fc-ab8d-4ec0-b6cd-ae8ab91fa96d"
      },
      "outputs": [],
      "source": [
        "rdd1 = ( sc.parallelize(['one', 'two', 'three', 'four'])\n",
        "        \n",
        "#           .map(str.title)\n",
        "       )\n",
        "rdd1.collect()\n"
      ]
    },
    {
      "cell_type": "markdown",
      "id": "cfb8a5ac-a311-4662-9fc2-002a6e207931",
      "metadata": {
        "id": "cfb8a5ac-a311-4662-9fc2-002a6e207931",
        "jp-MarkdownHeadingCollapsed": true,
        "tags": []
      },
      "source": [
        "## <img src=\"https://github.com/joegagliardo/dataflowclass1/blob/main/java.png?raw=1\" width=40 height=40 /><font color='indigo' size=\"+2\">Java</font>"
      ]
    },
    {
      "cell_type": "markdown",
      "id": "21dac026-c8dc-4a8f-ac25-af9fa3fa80df",
      "metadata": {
        "id": "21dac026-c8dc-4a8f-ac25-af9fa3fa80df",
        "jp-MarkdownHeadingCollapsed": true,
        "tags": []
      },
      "source": [
        "### Simple transformation using a <font color='green' size=\"+2\">lambda</font>.\n"
      ]
    },
    {
      "cell_type": "code",
      "execution_count": null,
      "id": "92d6a094-f9a6-4d21-aabe-209e19ca1c73",
      "metadata": {
        "id": "92d6a094-f9a6-4d21-aabe-209e19ca1c73"
      },
      "outputs": [],
      "source": [
        "%%java verbose\n",
        "package samples.quickstart;\n",
        "\n",
        "import org.apache.beam.sdk.Pipeline;\n",
        "import org.apache.beam.sdk.values.PCollection;\n",
        "import org.apache.beam.sdk.values.TypeDescriptors;\n",
        "import org.apache.beam.sdk.transforms.Create;\n",
        "import org.apache.beam.sdk.transforms.MapElements;\n",
        "import org.apache.beam.sdk.io.TextIO;\n",
        "\n",
        "import java.util.*;\n",
        "\n",
        "public class Create1 {\n",
        "    public static void main(String[] args) {\n",
        "\n",
        "        String outputsPrefix = \"/tmp/outputs\";\n",
        "        Pipeline p = Pipeline.create();\n",
        "        \n",
        "        PCollection<String> lines = p.apply(Create.of(\"one\", \"two\", \"three\", \"four\"));\n",
        "        lines = lines.apply(MapElements.into(TypeDescriptors.strings()).via((String line) -> line.toUpperCase()));\n",
        "        lines.apply(TextIO.write().to(outputsPrefix));\n",
        "\n",
        "        p.run().waitUntilFinish();\n",
        "    }\n",
        "}\n"
      ]
    },
    {
      "cell_type": "markdown",
      "id": "b214ef5a-67ec-44d7-9f29-6514dac33cd1",
      "metadata": {
        "id": "b214ef5a-67ec-44d7-9f29-6514dac33cd1",
        "jp-MarkdownHeadingCollapsed": true,
        "tags": []
      },
      "source": [
        "### Simple transformation using <font color='blue' face=\"Fixedsys, monospace\" size=\"+2\">SimpleFunction</font> instead of <font color='green' size=\"+2\">lambda</font>.\n"
      ]
    },
    {
      "cell_type": "code",
      "execution_count": null,
      "id": "5880740a-d9fb-4934-97e7-53fa4401c000",
      "metadata": {
        "id": "5880740a-d9fb-4934-97e7-53fa4401c000"
      },
      "outputs": [],
      "source": [
        "%%java verbose\n",
        "package samples.quickstart;\n",
        "\n",
        "import org.apache.beam.sdk.Pipeline;\n",
        "import org.apache.beam.sdk.values.PCollection;\n",
        "import org.apache.beam.sdk.transforms.Create;\n",
        "import org.apache.beam.sdk.transforms.MapElements;\n",
        "import org.apache.beam.sdk.transforms.SimpleFunction;\n",
        "import org.apache.beam.sdk.io.TextIO;\n",
        "import java.util.*;\n",
        "\n",
        "public class Create2 {\n",
        "    public static void main(String[] args) {\n",
        "\n",
        "        String outputsPrefix = \"/tmp/outputs\";\n",
        "        Pipeline p = Pipeline.create();\n",
        "        \n",
        "        PCollection<String> lines = p.apply(Create.of(\"one\", \"two\", \"three\", \"four\"));\n",
        "        lines = lines.apply(MapElements.via(\n",
        "            new SimpleFunction<String, String>() {\n",
        "              @Override\n",
        "              public String apply(String line) {\n",
        "                String ret = line.toUpperCase();\n",
        "                //System.out.println(\"** \" + ret);\n",
        "                return ret;\n",
        "              }\n",
        "            }));\n",
        "\n",
        "        lines.apply(\"Write\", TextIO.write().to(outputsPrefix));\n",
        "\n",
        "        p.run().waitUntilFinish();\n",
        "    }\n",
        "}\n"
      ]
    },
    {
      "cell_type": "markdown",
      "id": "f2b4f2da-d66b-47f2-96fd-c37cc8f80c34",
      "metadata": {
        "id": "f2b4f2da-d66b-47f2-96fd-c37cc8f80c34",
        "jp-MarkdownHeadingCollapsed": true,
        "tags": []
      },
      "source": [
        "### Java simple transformation using <font color='blue' face=\"Fixedsys, monospace\" size=\"+2\">SimpleFunction</font> to wrap a User Defined Function.\n"
      ]
    },
    {
      "cell_type": "code",
      "execution_count": null,
      "id": "6e25c0d9-88e6-4249-a210-9a365b599ea1",
      "metadata": {
        "id": "6e25c0d9-88e6-4249-a210-9a365b599ea1"
      },
      "outputs": [],
      "source": [
        "%%java\n",
        "package samples.quickstart;\n",
        "\n",
        "import org.apache.beam.sdk.Pipeline;\n",
        "import org.apache.beam.sdk.values.PCollection;\n",
        "import org.apache.beam.sdk.transforms.Create;\n",
        "import org.apache.beam.sdk.transforms.MapElements;\n",
        "import org.apache.beam.sdk.transforms.SimpleFunction;\n",
        "import org.apache.beam.sdk.io.TextIO;\n",
        "import java.util.*;\n",
        "\n",
        "public class Create3 {\n",
        "    public static void main(String[] args) {\n",
        "\n",
        "        String outputsPrefix = \"/tmp/outputs\";\n",
        "        Pipeline p = Pipeline.create();\n",
        "        \n",
        "        PCollection<String> lines = p.apply(Create.of(\"one\", \"two\", \"three\", \"four\"));\n",
        "        lines = lines.apply(MapElements.via(\n",
        "            new SimpleFunction<String, String>() {\n",
        "              @Override\n",
        "              public String apply(String line) {\n",
        "                return upper(line);\n",
        "              }\n",
        "            }));\n",
        "\n",
        "        lines.apply(\"Write\", TextIO.write().to(outputsPrefix));\n",
        "\n",
        "        p.run().waitUntilFinish();\n",
        "    }\n",
        "    \n",
        "    public static String upper(String line) {\n",
        "        return line.toUpperCase();\n",
        "    }\n",
        "}\n"
      ]
    },
    {
      "cell_type": "code",
      "execution_count": null,
      "id": "4158bcb0-4857-471a-84b7-332115cc8034",
      "metadata": {
        "id": "4158bcb0-4857-471a-84b7-332115cc8034"
      },
      "outputs": [],
      "source": [
        ""
      ]
    },
    {
      "cell_type": "markdown",
      "id": "31af0f10-727f-40aa-97c0-4da08ac96de9",
      "metadata": {
        "id": "31af0f10-727f-40aa-97c0-4da08ac96de9",
        "jp-MarkdownHeadingCollapsed": true,
        "tags": []
      },
      "source": [
        "# __ __ __ __ __ __ __ __ __ __ __ __ __ __ __ __ __ __ __ __ __ "
      ]
    },
    {
      "cell_type": "markdown",
      "id": "3dd57e57-609b-4435-9f2d-3b3b20382f45",
      "metadata": {
        "id": "3dd57e57-609b-4435-9f2d-3b3b20382f45",
        "jp-MarkdownHeadingCollapsed": true,
        "tags": []
      },
      "source": [
        "# LAB: #\n",
        "## Put the regions folder found in /class/datasets/northwind/CSV/regions into HDFS. Read it into an RDD and convert it into a tuple shape.\n",
        "<br>\n",
        "<details><summary>Click for <b>hint</b></summary>\n",
        "<p>\n",
        "Use <font color='blue' face=\"Fixedsys, monospace\" size=\"+1\">hadoop fs -put</font> or <font color='blue' face=\"Fixedsys, monospace\" size=\"+1\">hdfs dfs -put</font>\n",
        "<br>\n",
        "    Read the file using <font color='blue' face=\"Fixedsys, monospace\" size=\"+1\">sc.textFile</font>\n",
        "<br>\n",
        "    Do a <font color='green' size=\"+1\">map</font> to split and another to convert the datatypes\n",
        "<br>\n",
        "<br>\n",
        "</p>\n",
        "</details>\n",
        "\n",
        "<details><summary>Click for <b>code</b></summary>\n",
        "<p>\n",
        "\n",
        "```python\n",
        "! hadoop fs -put /class/datasets/northwind/CSV/regions /regions\n",
        "regions = sc.textFile('hdfs://localhost:9000/regions')\n",
        "regions = regions.map(lambda x : x.split(',')).map(lambda x : (int(x[0]), x[1]))\n",
        "print(regions.collect())\n",
        "```\n",
        "</p>\n",
        "</details>"
      ]
    },
    {
      "cell_type": "code",
      "execution_count": null,
      "id": "70944d8d-7d92-4361-9b0f-fd4303faebaa",
      "metadata": {
        "id": "70944d8d-7d92-4361-9b0f-fd4303faebaa"
      },
      "outputs": [],
      "source": [
        ""
      ]
    },
    {
      "cell_type": "markdown",
      "id": "e5c541ae-9a76-484a-8306-4c4ae6558a4f",
      "metadata": {
        "id": "e5c541ae-9a76-484a-8306-4c4ae6558a4f",
        "tags": []
      },
      "source": [
        "# __ __ __ __ __ __ __ __ __ __ __ __ __ __ __ __ __ __ __ __ __ "
      ]
    },
    {
      "cell_type": "markdown",
      "id": "5fd271d7-a5a5-4d3c-b74e-34c847cea3d3",
      "metadata": {
        "id": "5fd271d7-a5a5-4d3c-b74e-34c847cea3d3"
      },
      "source": [
        "# Embed a local image file like a screen shot of a single PowerPoint slide"
      ]
    },
    {
      "cell_type": "markdown",
      "id": "211b47dc-5fd7-45de-8599-736eeb423e48",
      "metadata": {
        "id": "211b47dc-5fd7-45de-8599-736eeb423e48"
      },
      "source": [
        "![alt.text](PowerPoint.png \"PowerPoint\")"
      ]
    },
    {
      "cell_type": "markdown",
      "id": "503eaa92-6d85-4e12-802f-95d597c446b7",
      "metadata": {
        "id": "503eaa92-6d85-4e12-802f-95d597c446b7"
      },
      "source": [
        "# Embed a published Google Slides presentation"
      ]
    },
    {
      "cell_type": "code",
      "execution_count": 10,
      "id": "898cd19d-1fd7-440c-b3e1-243e1d300dcb",
      "metadata": {
        "id": "898cd19d-1fd7-440c-b3e1-243e1d300dcb",
        "outputId": "53849353-72b2-462d-8004-cf77df818780",
        "colab": {
          "base_uri": "https://localhost:8080/",
          "height": 631
        }
      },
      "outputs": [
        {
          "output_type": "display_data",
          "data": {
            "text/html": [
              "<iframe src=\"https://docs.google.com/presentation/d/e/2PACX-1vTIEwl1E1GwTQqXfv-OkGJhYLV0QFGa5HOoJSQSQomuX604JPi3cmI8h8rlx4x_7yk_G3U9LCaoLiBH/embed?start=false&loop=false&delayms=3000\" frameborder=\"0\" width=\"1020\" height=\"610\" allowfullscreen=\"true\" mozallowfullscreen=\"true\" webkitallowfullscreen=\"true\"></iframe>"
            ],
            "text/plain": [
              "<IPython.core.display.HTML object>"
            ]
          },
          "metadata": {}
        }
      ],
      "source": [
        "%%html\n",
        "<iframe src=\"https://docs.google.com/presentation/d/e/2PACX-1vTIEwl1E1GwTQqXfv-OkGJhYLV0QFGa5HOoJSQSQomuX604JPi3cmI8h8rlx4x_7yk_G3U9LCaoLiBH/embed?start=false&loop=false&delayms=3000\" frameborder=\"0\" width=\"1020\" height=\"610\" allowfullscreen=\"true\" mozallowfullscreen=\"true\" webkitallowfullscreen=\"true\"></iframe>\n"
      ]
    }
  ],
  "metadata": {
    "colab": {
      "name": "Demo.ipynb",
      "provenance": []
    },
    "kernelspec": {
      "display_name": "Python 3",
      "language": "python",
      "name": "python3"
    },
    "language_info": {
      "codemirror_mode": {
        "name": "ipython",
        "version": 3
      },
      "file_extension": ".py",
      "mimetype": "text/x-python",
      "name": "python",
      "nbconvert_exporter": "python",
      "pygments_lexer": "ipython3",
      "version": "3.6.9"
    }
  },
  "nbformat": 4,
  "nbformat_minor": 5
}